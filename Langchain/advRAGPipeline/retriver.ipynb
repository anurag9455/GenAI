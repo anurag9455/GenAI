{
 "cells": [
  {
   "cell_type": "code",
   "execution_count": 12,
   "metadata": {},
   "outputs": [],
   "source": [
    "import os\n",
    "from dotenv import load_dotenv\n",
    "load_dotenv()\n",
    "os.environ[\"LANGCHAIN_TRACING_V2\"]=\"true\"\n",
    "os.environ[\"LANGCHAIN_API_KEY\"]=os.getenv(\"LANGCHAIN_API_KEY\")"
   ]
  },
  {
   "cell_type": "code",
   "execution_count": null,
   "metadata": {},
   "outputs": [],
   "source": []
  },
  {
   "cell_type": "code",
   "execution_count": 14,
   "metadata": {},
   "outputs": [],
   "source": [
    "from langchain_community.llms import Ollama\n",
    "llm = Ollama(model=\"llama3\")"
   ]
  },
  {
   "cell_type": "markdown",
   "metadata": {},
   "source": [
    "# Retriver and Chain with Langchain"
   ]
  },
  {
   "cell_type": "code",
   "execution_count": 1,
   "metadata": {},
   "outputs": [
    {
     "data": {
      "text/plain": [
       "[Document(page_content='DePaul Univ ersity DePaul Univ ersity \\nDigital Commons@DeP aul Digital Commons@DeP aul \\nNapoleon T ranslations French Pr ogram \\n1-1-2009 \\nProclomations, Speeches and Letters of Napoleon Buonapar te Proclomations, Speeches and Letters of Napoleon Buonapar te \\nDuring His Campaign of E gypt 1-8 During His Campaign of E gypt 1-8 \\nTrent Daile y-Chwalibog \\nBrittany Gignac \\nFollow this and additional works at: https:/ /via.libr ary.depaul.edu/napoleon \\nRecommended Citation Recommended Citation \\nDaile y-Chwalibog, T rent and Gignac, Brittany . (2009) Pr oclomations, Speeches and Letters of Napoleon \\nBuonapar te During His Campaign of E gypt 1-8. \\nhttps:/ /via.libr ary.depaul.edu/napoleon/6 \\nThis T ranslation is br ought t o you for fr ee and open access b y the F rench Pr ogram at Digital Commons@DeP aul. It \\nhas been accepted for inclusion in Napoleon T ranslations b y an authoriz ed administr ator of Digital \\nCommons@DeP aul. F or mor e information, please contact digitalser vices@depaul.edu . ', metadata={'source': 'bona.pdf', 'page': 0}),\n",
       " Document(page_content='PROCLAMATIONS,PROCLAMATIONS,PROCLAMATIONS,PROCLAMATIONS,    \\n \\nSPEECHES SPEECHES SPEECHES SPEECHES    AND LETTERS AND LETTERS AND LETTERS AND LETTERS    \\n     \\nOF \\n  \\nNAPOLEON BUONAPARTE \\n \\nDURING HIS CAMPAIGN OF EGYPT \\n \\n~~~~~~~~~ \\n \\nA WORD OF ENIGMA.  \\n \\nPars mala, non bona pars! dicent te tempora; quare Prœlia concludet sors mala, non bona sors. Albionum ad littus frangetur denique victrix Gallia, nec cunctos gens tua dejiciet \\nDestituet mare spes magnas, nec tempora cinget Laurea navalis : quod tibi vaticinor! 1 \\n \\n3 \\n                                                        \\n1 ”Part bad, part not good,” the times tell you; for the bad lot concluded the \\nbattles, not the good lot. In the end, the conqueri ng Gaule will be defeated on the \\nBritish shores, and your army will not have defeate d all of its enemies. The sea will \\nnot meet your expectations, and the fleet does not gird the times victorious. This is \\nwhat I prophesy to you. – T.R. (all subsequent note s are translators’ notes unless \\notherwise indicated)  \\n      \\n \\n              \\nTranslated by:  \\n \\nTRENT DAILEY -CHWALIBOG  \\nand \\nBRITTANY GIGNAC  \\n DePaul University, 2009  \\n \\n', metadata={'source': 'bona.pdf', 'page': 1}),\n",
       " Document(page_content=\"II IINTRODUCTION NTRODUCTION NTRODUCTION NTRODUCTION     \\n \\nThe following texts form a series of letters, speeches, \\nand official proclamations of Napoleon Bonaparte during his campaign in Egypt at the turn of the 19th century. Bonaparte, with the title of commander-in chief, joined together both the French army and navy in 1798 to carry out this complex conquest. His intention was to seize Egypt , \\nwhich was part of the Ottoman Empire, in order to create a \\nFrench presence in the Middle East, and to protect French trade which was at the time being hurt by British relat ions \\nwith trade authorities in Egypt, the Mamluk Beys. One of  \\nthe prime reasons for France agreeing to this near-impossible expedition was certainly to gain cultural enrichment from learning more about Middle Eastern life, but more so it was out of the fear that Napoleon's growing power was invoking in the French government. It was their hope that with the commander gone for several years, he would not only end in defeat, but would lose some of his credibility as an authority figure in France. After 3 y ears of \\ncountless defeats and exposure to the Bubonic Plague, the campaign did indeed prove to be unsuccessful. France gained no control over Egypt, nor of the British, yet Napoleon's reputation as a great military leader remained strong, due to the fact that during his campaign he formed  \\nhis own newspaper that praised his efforts and was periodically sent back to France to inform the people of his so-called brilliant progress. Therefore, despite his failur e in \\nEgypt, he was still seen as admirable and was crowned Emperor only a few short years after.     These 8 separate documents are all from the beginning of this legendary campaign, from an inspiration al \\nspeech to his soldiers before leaving France, to the officia l \\nstatement issued to the Egyptian people after his first attacks against the Mamluk forces, the Battle of the Pyramids. The tone in each text never fails to be optimisti c, \\ncompassionate, or encouraging, even in his proclamations warning Egyptian officials of his impending actions. This \\nseries of statements allows us to see the type of commanding officer that Napoleon Bonaparte truly was, where despite the fact that his personal greed for power was his driving force, he was capable of encouraging his  \\ntroops and even the people he conquered to all be passionate for a common cause and to trust wholeheartedly  \\nin their leader. \\n    \\n    \\n    \\n    \\n    \\n    \\n    \\n    \", metadata={'source': 'bona.pdf', 'page': 2}),\n",
       " Document(page_content=' \\n~~~~~~~~~~~~~~~~~~~~~~~~~~~~~~~~~~~  \\nPROCLAMATIONS,PROCLAMATIONS,PROCLAMATIONS,PROCLAMATIONS,    \\n     \\nSPEECHES SPEECHES SPEECHES SPEECHES    AND LETTERS AND LETTERS AND LETTERS AND LETTERS    \\n     \\nOF \\n  \\nNAPOLEON BUONAPARTE \\n \\nDURING HIS CAMPAIGN OF EGYPT \\n \\n~~~~~~~~~  \\n \\nI.  \\n \\nSPEECH \\n \\nAddressed to the French Army before departing  from Toulon 2, May  8th , 1798. \\n  Officers and soldiers, two years ago, I came to be \\nyour commanding officer 3. At that time, you were in the \\nGenoa River 4, in the greatest of miseries, stripped of  \\n                                                        \\n2 A city in southern France and large military harbo r on the Mediterranean coast; \\ntoday the site of a large French naval base. (36) \\n everything, having sacrificed even your most prized possessions, all for the sake of your mutual livelihood. I promised to have your miseries put to an end, I guided you to Italy, from there, everything worked in your favor. Have I not kept my word?—Well, hear this: you have not yet done enough for our nation, and our nation has not yet done enough for you.    I am now going to lead you to a country where, through your future exploits, you will surpass even those that today astound your admirers, and give back to ou r \\nnation the services that she rightly expects from an army of invincible men. I promise to each soldier that, upon \\nthe return from this expedition, he will have the means to buy six arpents 5 of land. You will run from new \\ndangers, and will share them with our brothers, the sailors. This navy, thus far, has not made itself redoubtable to our enemies; their exploits hardly rival yours; they have not had the same opportunities, but the courage of the sailors is equal to yours. They strive for triumph, and they will achieve it with you. Show them  \\nthis invincible spirit that has everywhere left you victorious; assist in their efforts; get on board with t his  \\n \\n                                                                                                                    \\n \\n3 Bonaparte had been nominated commander-in-chief of  the armée d’Orient on \\nMarch 5 th  1798. \\n4A river in Genoa, Italy; Reference to Bonaparte’s I talian Campaign in 1796.  \\n5 A pre-metric French unit of measurement; 1 arpent is equal to 180 French feet (of \\napproximately 32 centimeters each). ', metadata={'source': 'bona.pdf', 'page': 3}),\n",
       " Document(page_content='(37) \\n \\nintelligence that is characteristic of those who are entirely animated and devoted to the sake of the same   cause. They have, like you, acquired the right to nationa l \\nrecognition, in the difficult art of the sea. Learn the maneuvers of the deck, become the terror of our enemies on land and at sea; imitate, in that regard, the Roman soldiers who knew how to combat both Carthage on land and the Carthaginian fleets.     ~~~~~~~~~~~~~~~~~~~~~~~~~~~~~~~~~~~~~~~~~~~  \\n \\nII.  \\n \\nPROCLAMATION \\n \\n May 9th , 1798.  \\n \\n \\nSoldiers, you are one of the wings of the English \\narmy; you have fought this war on mountains, plains and by siege; all that is left for you is maritime war. The Roman legions, that you have at times emulated but not yet equaled, combated Carthage time and time again on this very sea and in the Zama plains. Victory never eluded them, because they were unremittingly brave, patient in tolerating fatigue, disciplined and united.   (38) \\n Soldiers, Europe has her eyes set on you. You have \\ngreat destinies to fulfill, battles to pursue, danger and fatigue to conquer; you will do more than you have ever done for the prosperity of our nation, for the happiness of mankind, and for your own glory. Soldiers, sailors, infantrymen, gunmen and cavalrymen, may we unite! Remember that on the day of battle, you need one another! Soldier-sailors, you have been thus far neglected; today the Republic’s 6 greatest concern is for \\nyou; you will be worthy of the army to which you belong. Since its birth, the spirit of liberty that made the Republic the arbitrator of Europe, has also wanted to be the arbitrator of the waters and of more distant lands!   \\n_______ \\n                                                       \\n \\n6 Shortened from the French First Republic, La République Française ; the \\ngovernment in place in France from 1792 to 1804. ', metadata={'source': 'bona.pdf', 'page': 4}),\n",
       " Document(page_content='(39) \\n \\n ~~~~~~~~~~~~~~~~~~~~~~~~~~~~~~~~~~~~~~~~~~~  \\n \\nIII.  \\n \\nPROCLAMATION \\n \\nJune 21 st , 1798. \\n \\n \\nSoldiers, you are about to take on a conquest \\nwhose effects on civilization and world commerce are incalculable. You will bring England a most successfu l \\nyet delicate attack—before delivering the final blow. We will endure some taxing marches, we will engage in many battles, we will succeed in all of our ventures; fate is on our side. The Mamluk Beys 7, who exclusively favor \\nEnglish commerce, who vexed our merchants and tyrannize the unfortunate people of the Nile valley, will cease to exist shortly after our arrival. The people with whom we are going to live are Mohammedans 8; their first \\narticle of faith is this: there is no other God than                                                         \\n \\n7 Mamluk: applies to soldiers who converted to Islam  and served its religious \\nofficials between the 9th and 16th centuries, event ually seized power for \\nthemselves and became referred to as an ethnic grou p; Bey: a Turkish title for \\n\"chieftain\" or \"lord\", equivalent to a Duke in Euro pe. \\n8 A term used to show relation to either the religio n of Islam or to the Prophet \\nMuhammad; is now largely rejected by the Muslim wor ld and is superseded by \\n\"Muslim\" or \"Islamic\".  (40) \\n God, and Muhammad is His Prophet. Do not contradict them; behave with them as we did with the Jews, and with the Italians; show respect for their Muftis 9 and their \\nImams10 , as you have for Rabbis and Bishops. For the \\nceremonies that read from the Qur’an, and for the Mosques, show the same tolerance that you have shown \\nfor the convents and the synagogues, for the religions of Moses and of Jesus Christ . The Roman legions protected \\nall religions. Here you will find different practices from those in Europe; you must grow accustomed to them.  Where we are going, the people treat their women differently than we do, but in all countries, he who rapes  \\nis a savage. Pillage brings wealth to only a small num ber \\nof men; it dishonors us; it destroys our resources; it makes enemies of those it is in our interest to have as friends. The first city we will encounter was built by \\nAlexander. With each step we will forge great memories, \\nworthy of inspiring the competitive nature of the French.—From the headquarters, aboard the Orient , \\nJune 21 st . \\n                                                            \\n \\n9 An Islamic scholar who is an interpreter or expoun der of Islamic law. \\n10  An Islamic leadership position, often the leader o f a mosque and of the \\ncommunity; the one who leads the prayer during Isla mic gatherings.  ', metadata={'source': 'bona.pdf', 'page': 5}),\n",
       " Document(page_content='(41) \\n ~~~~~~~~~~~~~~~~~~~~~~~~~~~~~~~~~~~~~~~~~~~  \\n \\nIV.  \\n \\nLETTER \\n \\n Addressed to the Pasha of Egypt,  \\nJune 20 th  1798.  \\n  \\nThe Executive Directory 11  of the French Republic has \\naddressed the Sublime Port 12  several times, to request \\npunishment of the Beys of Egypt, who devastated French merchants with trials and tribulations. But the Subli me \\nPort declared that the Beys, capricious and avaricious men, ignored the principles of Justice. Not only did she not condone the insults they made on her kind, old friends, the French, but she even withdrew her protection. The French Republic decided to send a strong army to put an end to the Egyptian Beys’ larceny, as it was obligated to do several times this century, against the Beys of Tunisia  \\n \\n                                                       \\n \\n11  A body of five Directors (Jean-François Rewbell, P aul François Jean Nicolas, Louis \\nMarie de la Révellière-Lépaux, Lazare Nicolas Margu erite Carnot, and Etienne-\\nFrançois Le Tourneur) that held executive power in France between 1795 and 1799. \\n12  The open court of the Sultan of the Ottoman Empire , led by the Grand Vizier; \\nrefers to the gates ( portes ) of the Palace.  (42) \\n and of Algeria. You, who should be commanding the Beys, while they occupy Cairo without any authority or   power over them, surely you await my arrival with pleasure. You, without doubt, have been informed that I do not come to oppose the Qur’an or the Sultan. You know that the French nation is the one and only ally the Sultan has in Europe. Therefore come join me, and with me curse the impious race that is the Beys.—Aboard the \\nOrient , June 20 th . \\n  ~~~~~~~~~~~~~~~~~~~~~~~~~~~~~~~~~~~~~~~~~~~  \\n \\nV.  \\n \\nLETTER \\n \\nTo the commander of the Harbor of Alexandria,    July 3 rd , 1798.  \\n   The Beys have smothered our merchants with vexation; I come to ask for retribution. Tomorrow, I will be in Alexandria; you need not worry in the slightest, for you belong to our good friend the Sultan; act accordingly. But if you display even the slightest hostility toward the French army, I will treat you as an enemy, and you will   ', metadata={'source': 'bona.pdf', 'page': 6}),\n",
       " Document(page_content='(43) \\n \\nbe to blame—for this is far from my heart’s intention.—Aboard the Orient,  July 3 rd .  \\n  ~~~~~~~~~~~~~~~~~~~~~~~~~~~~~~~~~~~~~~~~~~~  \\n \\nVI.  \\n \\nPROCLAMATION \\n \\nPublished in Arabic  after arriving in Egypt.  \\n \\n For some time now, the Beys who govern Egypt, have insulted the French nation and have excluded our merchants; the time for retribution has come. For too long now, this bevy of slaves, bought in the Caucasus and  \\nin Georgia, has tyrannized the most beautiful part of the world; but God, on whom all depends, has ordered that their empire be brought to an end. People of Egypt, they will tell you that I come to destroy your religion—do not believe it. Tell them I come to restore your rights, to punish the usurpers, and that I respect God, His Prophet Muhammad, and the Qur’an, far more than do the Mamluks. Tell them that all men are equal in the eyes of God. Only wisdom, talent and virtue set a difference between us. And yet, what wisdom, what talents, and what virtues set the Mamluks apart, so that they might claim for themselves all that makes life sweet and  (44) \\n  enjoyable? Is there a fine land? It belongs to the Mamluks. Is there a fine slave, a fine horse, or a fine home? All of it belongs to the Mamluks. If they claim  Egypt as their farm, may they provide the lease that God has written for them.     But God is just and merciful to the people. All Egyptians will be called forward to manage all places. The wisest, most educated and most virtuous of them will govern, and the people will be happy. In the past, there were among you great cities, large canals and strong commerce. What destroyed it all, if it was not the avarice, the injustice and the tyranny of the Mamluks? Caliphs 13 , Sheikhs 14 , Imams, Chorbajis 15 , tell the people that we are friends of true Muslims. Was it not us who destroyed the Pope, who demanded that war be waged against the Muslims? Was it not us who destroyed the \\nchevaliers of Malta 16 , because  those fools believed that \\nGod wanted them to wage war against the Muslims? Was it not us who have for centuries been friends of His  \\n \\n                                                       \\n \\n13  An Islamic leader in a community of Islam; means \" successor\", that is, successor to the \\nProphet Muhammed 14  A word or honorific term in Arabic that literally means \"elder\"; used to designate an elder \\nof a tribe, a revered wise man, or an Islamic schol ar. \\n15  A person who is very rich and elite; literally mea ns \"soup server\" in Turkish and refers to \\n\"chorba\", a kind of thick soup or stew that suppose dly only the rich can afford to eat.  \\n16  Also called the Knights of Malta; part of the Chri stian organization The Knights Hospitaller \\nthat became a religious/military order in defense o f Christianity after the First Crusade; sent \\nto Malta in 1565 to expel Muslims and gain a new ba se from which to possibly launch another \\nreligious assault on Europe. ', metadata={'source': 'bona.pdf', 'page': 7}),\n",
       " Document(page_content='(45) \\n Highness, the Sultan, (may God fulfill his desires!) and  \\nthe enemies of his enemies? However, were the Mamluks  not the ones who always revolted against the authority of   His Highness, of which they are still incognizant? They indulge only in their own whims. Three times happier will those who join us be; they will prosper both in fortune and in rank. Happy will be those who remain neutral, they will have the time to become acquainted with us, and they will line up with us! But cursed, t hree \\ntimes more cursed, will be those that who take up arms for the Mamluks, and fight against us. No, there will be  \\nno hope for them, they will perish.    \\n_______ \\n (46) \\n ~~~~~~~~~~~~~~~~~~~~~~~~~~~~~~~~~~~~~~~~~~~  \\n \\nVII.  \\n \\nLETTER \\n \\n Addressed to the Sheikhs and Officials of Cairo,  \\nJuly 24 th  1798.  \\n \\n \\nYou will see, by the enclosed proclamation, the \\nfeelings that move me. Yesterday, the Mamluks were, for the most part, either killed or imprisoned, and I am in pursuit of the few who still remain. Have your boats cross the river from your bank to ours; send me delegation to prove to me your obedience. Have bread, meat, straw, and barley prepared for my army, and be without worry; for nobody desires to contribute to your happiness more than myself.—Giza 17 , July 24 th .  \\n                                                         \\n \\n17  Written as Gira in the original text; most probably a mistake. ', metadata={'source': 'bona.pdf', 'page': 8}),\n",
       " Document(page_content='(47) \\n ~~~~~~~~~~~~~~~~~~~~~~~~~~~~~~~~~~~~~~~~~~~  \\n \\nVIII.  \\n \\nPROCLAMATION \\n \\nTo the people of Cairo.  \\n \\n People of Cairo, your conduct pleases me. You were right in remaining loyal to me. I came here to destroy the Mamluk race, to protect the commerce and nature of this country. May all who are frightened be subdued; may all who have fled return to their homes; may prayer be held today, like always, for I want it to always continue. Fear nothing for your families, your homes, your properties, and above all your religion from your Prophet whom I love. It is urgent to have men in command of the police, so that peace be not disturbed. Thus, there will be a Divan 18     composed of seven people \\nwho will meet at the Ver Mosque; there will always be two men near the Major, and four will be busy maintaining public peace, and one overseeing the  police.—From the headquarters, in Giza . \\n   \\n \\n                                                        \\n \\n18  A high governmental body of an Islamic state.  ', metadata={'source': 'bona.pdf', 'page': 9})]"
      ]
     },
     "execution_count": 1,
     "metadata": {},
     "output_type": "execute_result"
    }
   ],
   "source": [
    "from langchain_community.document_loaders import PyPDFLoader\n",
    "loader = PyPDFLoader(\"bona.pdf\")\n",
    "text_documents = loader.load()\n",
    "text_documents"
   ]
  },
  {
   "cell_type": "code",
   "execution_count": 3,
   "metadata": {},
   "outputs": [
    {
     "data": {
      "text/plain": [
       "[Document(page_content='DePaul Univ ersity DePaul Univ ersity \\nDigital Commons@DeP aul Digital Commons@DeP aul \\nNapoleon T ranslations French Pr ogram \\n1-1-2009 \\nProclomations, Speeches and Letters of Napoleon Buonapar te Proclomations, Speeches and Letters of Napoleon Buonapar te \\nDuring His Campaign of E gypt 1-8 During His Campaign of E gypt 1-8 \\nTrent Daile y-Chwalibog \\nBrittany Gignac \\nFollow this and additional works at: https:/ /via.libr ary.depaul.edu/napoleon \\nRecommended Citation Recommended Citation \\nDaile y-Chwalibog, T rent and Gignac, Brittany . (2009) Pr oclomations, Speeches and Letters of Napoleon \\nBuonapar te During His Campaign of E gypt 1-8. \\nhttps:/ /via.libr ary.depaul.edu/napoleon/6 \\nThis T ranslation is br ought t o you for fr ee and open access b y the F rench Pr ogram at Digital Commons@DeP aul. It \\nhas been accepted for inclusion in Napoleon T ranslations b y an authoriz ed administr ator of Digital', metadata={'source': 'bona.pdf', 'page': 0}),\n",
       " Document(page_content='Commons@DeP aul. F or mor e information, please contact digitalser vices@depaul.edu .', metadata={'source': 'bona.pdf', 'page': 0}),\n",
       " Document(page_content='PROCLAMATIONS,PROCLAMATIONS,PROCLAMATIONS,PROCLAMATIONS,    \\n \\nSPEECHES SPEECHES SPEECHES SPEECHES    AND LETTERS AND LETTERS AND LETTERS AND LETTERS    \\n     \\nOF \\n  \\nNAPOLEON BUONAPARTE \\n \\nDURING HIS CAMPAIGN OF EGYPT \\n \\n~~~~~~~~~ \\n \\nA WORD OF ENIGMA.  \\n \\nPars mala, non bona pars! dicent te tempora; quare Prœlia concludet sors mala, non bona sors. Albionum ad littus frangetur denique victrix Gallia, nec cunctos gens tua dejiciet \\nDestituet mare spes magnas, nec tempora cinget Laurea navalis : quod tibi vaticinor! 1 \\n \\n3 \\n                                                        \\n1 ”Part bad, part not good,” the times tell you; for the bad lot concluded the \\nbattles, not the good lot. In the end, the conqueri ng Gaule will be defeated on the \\nBritish shores, and your army will not have defeate d all of its enemies. The sea will \\nnot meet your expectations, and the fleet does not gird the times victorious. This is', metadata={'source': 'bona.pdf', 'page': 1}),\n",
       " Document(page_content='what I prophesy to you. – T.R. (all subsequent note s are translators’ notes unless \\notherwise indicated)  \\n      \\n \\n              \\nTranslated by:  \\n \\nTRENT DAILEY -CHWALIBOG  \\nand \\nBRITTANY GIGNAC  \\n DePaul University, 2009', metadata={'source': 'bona.pdf', 'page': 1}),\n",
       " Document(page_content='II IINTRODUCTION NTRODUCTION NTRODUCTION NTRODUCTION     \\n \\nThe following texts form a series of letters, speeches, \\nand official proclamations of Napoleon Bonaparte during his campaign in Egypt at the turn of the 19th century. Bonaparte, with the title of commander-in chief, joined together both the French army and navy in 1798 to carry out this complex conquest. His intention was to seize Egypt , \\nwhich was part of the Ottoman Empire, in order to create a \\nFrench presence in the Middle East, and to protect French trade which was at the time being hurt by British relat ions \\nwith trade authorities in Egypt, the Mamluk Beys. One of', metadata={'source': 'bona.pdf', 'page': 2})]"
      ]
     },
     "execution_count": 3,
     "metadata": {},
     "output_type": "execute_result"
    }
   ],
   "source": [
    "from langchain.text_splitter import RecursiveCharacterTextSplitter\n",
    "text_splitter = RecursiveCharacterTextSplitter(chunk_size=1000,chunk_overlap=20)\n",
    "documents = text_splitter.split_documents(text_documents)\n",
    "documents[:5]"
   ]
  },
  {
   "cell_type": "code",
   "execution_count": 4,
   "metadata": {},
   "outputs": [],
   "source": [
    "from langchain_community.embeddings import OpenAIEmbeddings,OllamaEmbeddings\n",
    "from langchain_community.vectorstores import FAISS"
   ]
  },
  {
   "cell_type": "code",
   "execution_count": 5,
   "metadata": {},
   "outputs": [],
   "source": [
    "embeddings = OllamaEmbeddings(model=\"llama3\")"
   ]
  },
  {
   "cell_type": "code",
   "execution_count": 7,
   "metadata": {},
   "outputs": [],
   "source": [
    "db=FAISS.from_documents(documents,embeddings)"
   ]
  },
  {
   "cell_type": "code",
   "execution_count": 8,
   "metadata": {},
   "outputs": [
    {
     "data": {
      "text/plain": [
       "'Egypt, he was still seen as admirable and was crowned Emperor only a few short years after.     These 8 separate documents are all from the beginning of this legendary campaign, from an inspiration al \\nspeech to his soldiers before leaving France, to the officia l \\nstatement issued to the Egyptian people after his first attacks against the Mamluk forces, the Battle of the Pyramids. The tone in each text never fails to be optimisti c, \\ncompassionate, or encouraging, even in his proclamations warning Egyptian officials of his impending actions. This \\nseries of statements allows us to see the type of commanding officer that Napoleon Bonaparte truly was, where despite the fact that his personal greed for power was his driving force, he was capable of encouraging his  \\ntroops and even the people he conquered to all be passionate for a common cause and to trust wholeheartedly  \\nin their leader.'"
      ]
     },
     "execution_count": 8,
     "metadata": {},
     "output_type": "execute_result"
    }
   ],
   "source": [
    "query= \"I promise to each soldier that, upon the return from this expedition, he will have the means to buy six arpents5 of land.\"\n",
    "result=db.similarity_search(query)\n",
    "result[0].page_content"
   ]
  },
  {
   "cell_type": "code",
   "execution_count": 10,
   "metadata": {},
   "outputs": [],
   "source": [
    "from langchain_core.prompts import ChatPromptTemplate"
   ]
  },
  {
   "cell_type": "code",
   "execution_count": 21,
   "metadata": {},
   "outputs": [],
   "source": [
    "prompt=ChatPromptTemplate.from_template(\n",
    "        (\"\"\"You are an expert on Napolean Bonaparte and know all of his speeachs history and knowledge. So please give answer based on that.\n",
    "        <context>\n",
    "         {context}\n",
    "         </context>\n",
    "         Question:{input} \n",
    "         \"\"\"),\n",
    "        \n",
    ")"
   ]
  },
  {
   "cell_type": "markdown",
   "metadata": {},
   "source": [
    "### Chain "
   ]
  },
  {
   "cell_type": "code",
   "execution_count": 22,
   "metadata": {},
   "outputs": [],
   "source": [
    "from langchain.chains.combine_documents import create_stuff_documents_chain\n",
    "\n",
    "document_chain=create_stuff_documents_chain(llm,prompt)"
   ]
  },
  {
   "cell_type": "code",
   "execution_count": 23,
   "metadata": {},
   "outputs": [
    {
     "data": {
      "text/plain": [
       "VectorStoreRetriever(tags=['FAISS', 'OllamaEmbeddings'], vectorstore=<langchain_community.vectorstores.faiss.FAISS object at 0x0000015AFFD3B1F0>)"
      ]
     },
     "execution_count": 23,
     "metadata": {},
     "output_type": "execute_result"
    }
   ],
   "source": [
    "retriver=db.as_retriever()\n",
    "retriver"
   ]
  },
  {
   "cell_type": "code",
   "execution_count": 24,
   "metadata": {},
   "outputs": [],
   "source": [
    "from langchain.chains import create_retrieval_chain\n",
    "\n",
    "retreval_chain = create_retrieval_chain(retriver,document_chain)"
   ]
  },
  {
   "cell_type": "code",
   "execution_count": 28,
   "metadata": {},
   "outputs": [],
   "source": [
    "response = retreval_chain.invoke({\"input\":\"Speech by Napolean to French Army\"})"
   ]
  },
  {
   "cell_type": "code",
   "execution_count": 29,
   "metadata": {},
   "outputs": [
    {
     "data": {
      "text/plain": [
       "\"My dear soldiers, as we stand on the eve of this great campaign, I prophesy to you that we shall emerge victorious, that our names will be etched in the annals of history alongside the greatest conquerors. We are not merely an army, but a force for change, a bulwark against tyranny and oppression.\\n\\nWe have come too far, faced too many challenges, and sacrificed too much to turn back now. Our path is clear: we shall march forth, our bayonets fixed, our hearts ablaze with the passion of liberty and equality. We shall not be deterred by the petty squabbles of politics or the whims of fate.\\n\\nWe are the vanguard of a new era, one in which the people shall be free to determine their own destiny. And we, my brave soldiers, shall be the instruments of that freedom. We shall not be swayed by the doubts and fears of others; we shall forge our own path, unafraid to take risks or defy convention.\\n\\nSo let us march forth, my friends, with confidence in ourselves, in our ideals, and in each other. Let us show the world what it means to be French, to be a force for good and justice in this troubled world. For we are not just soldiers; we are the instruments of history itself.\\n\\nVive la France! Vive l'armée d'Orient!\\n\\n(Please note that this is a reconstructed speech based on Napoleon's style and tone during his military campaigns.)\""
      ]
     },
     "execution_count": 29,
     "metadata": {},
     "output_type": "execute_result"
    }
   ],
   "source": [
    "response['answer']"
   ]
  },
  {
   "cell_type": "code",
   "execution_count": null,
   "metadata": {},
   "outputs": [],
   "source": []
  }
 ],
 "metadata": {
  "kernelspec": {
   "display_name": "genai",
   "language": "python",
   "name": "python3"
  },
  "language_info": {
   "codemirror_mode": {
    "name": "ipython",
    "version": 3
   },
   "file_extension": ".py",
   "mimetype": "text/x-python",
   "name": "python",
   "nbconvert_exporter": "python",
   "pygments_lexer": "ipython3",
   "version": "3.10.14"
  }
 },
 "nbformat": 4,
 "nbformat_minor": 2
}
